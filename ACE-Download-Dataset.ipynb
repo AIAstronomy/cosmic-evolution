{
  "cells": [
    {
      "cell_type": "markdown",
      "id": "7fb4e437",
      "metadata": {
        "id": "7fb4e437"
      },
      "source": [
        "# Download data from FITS tables"
      ]
    },
    {
      "cell_type": "markdown",
      "id": "8ca5ef8a",
      "metadata": {},
      "source": [
        "## Import libraries"
      ]
    },
    {
      "cell_type": "code",
      "execution_count": 1,
      "id": "dc008f6f",
      "metadata": {
        "id": "dc008f6f"
      },
      "outputs": [
        {
          "name": "stdout",
          "output_type": "stream",
          "text": [
            "Requirement already satisfied: pip in c:\\users\\vst\\appdata\\local\\programs\\python\\python310\\lib\\site-packages (22.0.3)\n",
            "Note: you may need to restart the kernel to use updated packages.\n",
            "Requirement already satisfied: numpy in c:\\users\\vst\\appdata\\local\\programs\\python\\python310\\lib\\site-packages (1.22.2)\n",
            "Requirement already satisfied: networkx in c:\\users\\vst\\appdata\\local\\programs\\python\\python310\\lib\\site-packages (2.6.3)\n",
            "Requirement already satisfied: scipy in c:\\users\\vst\\appdata\\local\\programs\\python\\python310\\lib\\site-packages (1.8.0)\n",
            "Requirement already satisfied: joblib in c:\\users\\vst\\appdata\\local\\programs\\python\\python310\\lib\\site-packages (1.1.0)\n",
            "Requirement already satisfied: matplotlib in c:\\users\\vst\\appdata\\local\\programs\\python\\python310\\lib\\site-packages (3.5.1)\n",
            "Requirement already satisfied: pandas in c:\\users\\vst\\appdata\\local\\programs\\python\\python310\\lib\\site-packages (1.4.1)\n",
            "Requirement already satisfied: astropy in c:\\users\\vst\\appdata\\local\\programs\\python\\python310\\lib\\site-packages (5.0.1)\n",
            "Requirement already satisfied: requests in c:\\users\\vst\\appdata\\local\\programs\\python\\python310\\lib\\site-packages (2.27.1)\n",
            "Note: you may need to restart the kernel to use updated packages.\n"
          ]
        },
        {
          "name": "stderr",
          "output_type": "stream",
          "text": [
            "ERROR: Could not find a version that satisfies the requirement json (from versions: none)\n",
            "ERROR: No matching distribution found for json\n"
          ]
        }
      ],
      "source": [
        "%pip install --upgrade pip\n",
        "%pip install numpy networkx scipy joblib matplotlib pandas astropy requests json\n",
        "\n",
        "# imports\n",
        "%matplotlib inline\n",
        "\n",
        "import numpy as np\n",
        "import pandas as pd \n",
        "import matplotlib.pyplot as plt\n",
        "from astropy.io import fits\n",
        "from astropy.table import Table\n",
        "from astropy.table import QTable\n",
        "from matplotlib.colors import LogNorm\n",
        "import glob\n",
        "import requests\n",
        "import matplotlib as mpl\n",
        "import matplotlib.cm as cm\n",
        "import requests\n",
        "\n",
        "import os\n",
        "import json"
      ]
    },
    {
      "cell_type": "code",
      "execution_count": 2,
      "id": "c8e1IY8D7vni",
      "metadata": {
        "colab": {
          "base_uri": "https://localhost:8080/"
        },
        "id": "c8e1IY8D7vni",
        "outputId": "2d0ccae6-31a1-4391-d6c4-826812c270ce"
      },
      "outputs": [],
      "source": [
        "# from google.colab import drive\n",
        "# drive.mount('/content/drive')"
      ]
    },
    {
      "cell_type": "markdown",
      "id": "f1662265",
      "metadata": {},
      "source": [
        "## Download the dataset"
      ]
    },
    {
      "cell_type": "code",
      "execution_count": 3,
      "id": "VeAw8iGv6hjk",
      "metadata": {
        "id": "VeAw8iGv6hjk"
      },
      "outputs": [],
      "source": [
        "###### Download the Catalog SDSS DR10 QSFIT\n",
        "filename = \"dataset/qsfit.fits\"\n",
        "url = \"https://qsfit.inaf.it/cat_1.24/fits/qsfit_1.2.4.fits\"\n",
        "r = requests.get(url)\n",
        "os.makedirs(os.path.dirname(filename), exist_ok=True)\n",
        "with open(filename, 'wb') as f:\n",
        "    f.write(r.content) "
      ]
    },
    {
      "cell_type": "markdown",
      "id": "877ce1e0",
      "metadata": {},
      "source": [
        "Open the fits that contains all the information to download the dataset"
      ]
    },
    {
      "cell_type": "code",
      "execution_count": 4,
      "id": "0a199a9c",
      "metadata": {
        "id": "0a199a9c"
      },
      "outputs": [
        {
          "ename": "NameError",
          "evalue": "name 'fits' is not defined",
          "output_type": "error",
          "traceback": [
            "\u001b[1;31m---------------------------------------------------------------------------\u001b[0m",
            "\u001b[1;31mNameError\u001b[0m                                 Traceback (most recent call last)",
            "\u001b[1;32mc:\\Users\\VST\\git\\cguz\\cosmic-evolution\\ACE-Download-Dataset.ipynb Cell 8'\u001b[0m in \u001b[0;36m<module>\u001b[1;34m\u001b[0m\n\u001b[1;32m----> <a href='vscode-notebook-cell:/c%3A/Users/VST/git/cguz/cosmic-evolution/ACE-Download-Dataset.ipynb#ch0000005?line=0'>1</a>\u001b[0m hdu_list \u001b[39m=\u001b[39m fits\u001b[39m.\u001b[39mopen(filename, memmap\u001b[39m=\u001b[39m\u001b[39mTrue\u001b[39;00m)\n\u001b[0;32m      <a href='vscode-notebook-cell:/c%3A/Users/VST/git/cguz/cosmic-evolution/ACE-Download-Dataset.ipynb#ch0000005?line=1'>2</a>\u001b[0m df \u001b[39m=\u001b[39m pd\u001b[39m.\u001b[39mDataFrame(hdu_list[\u001b[39m1\u001b[39m]\u001b[39m.\u001b[39mdata)\n\u001b[0;32m      <a href='vscode-notebook-cell:/c%3A/Users/VST/git/cguz/cosmic-evolution/ACE-Download-Dataset.ipynb#ch0000005?line=2'>3</a>\u001b[0m df \u001b[39m=\u001b[39m df\u001b[39m.\u001b[39mreset_index()\n",
            "\u001b[1;31mNameError\u001b[0m: name 'fits' is not defined"
          ]
        }
      ],
      "source": [
        "hdu_list = fits.open(filename, memmap=True)\n",
        "df = pd.DataFrame(hdu_list[1].data)\n",
        "df = df.reset_index()  # make sure indexes pair with number of rows"
      ]
    },
    {
      "cell_type": "code",
      "execution_count": null,
      "id": "99973355",
      "metadata": {
        "colab": {
          "base_uri": "https://localhost:8080/"
        },
        "id": "99973355",
        "outputId": "9cf1cf9f-36be-4dd7-b634-5410747845e9"
      },
      "outputs": [
        {
          "data": {
            "text/plain": [
              "71261"
            ]
          },
          "execution_count": 22,
          "metadata": {},
          "output_type": "execute_result"
        }
      ],
      "source": [
        "len(df)"
      ]
    },
    {
      "cell_type": "code",
      "execution_count": null,
      "id": "49e48461",
      "metadata": {
        "colab": {
          "base_uri": "https://localhost:8080/",
          "height": 560
        },
        "id": "49e48461",
        "outputId": "007239f0-d14e-4d79-bff6-66374c237cf9"
      },
      "outputs": [
        {
          "data": {
            "text/html": [
              "<div>\n",
              "<style scoped>\n",
              "    .dataframe tbody tr th:only-of-type {\n",
              "        vertical-align: middle;\n",
              "    }\n",
              "\n",
              "    .dataframe tbody tr th {\n",
              "        vertical-align: top;\n",
              "    }\n",
              "\n",
              "    .dataframe thead th {\n",
              "        text-align: right;\n",
              "    }\n",
              "</style>\n",
              "<table border=\"1\" class=\"dataframe\">\n",
              "  <thead>\n",
              "    <tr style=\"text-align: right;\">\n",
              "      <th></th>\n",
              "      <th>SPEC</th>\n",
              "      <th>SDSS_NAME</th>\n",
              "      <th>RA</th>\n",
              "      <th>DEC</th>\n",
              "      <th>REDSHIFT</th>\n",
              "      <th>PLATE</th>\n",
              "      <th>FIBER</th>\n",
              "      <th>MJD</th>\n",
              "      <th>E_BV</th>\n",
              "      <th>NDATA</th>\n",
              "      <th>...</th>\n",
              "      <th>BALMER__LOGNE</th>\n",
              "      <th>BALMER__LOGNE_ERR</th>\n",
              "      <th>BALMER__LOGTAU</th>\n",
              "      <th>BALMER__LOGTAU_ERR</th>\n",
              "      <th>BALMER__FWHM</th>\n",
              "      <th>BALMER__FWHM_ERR</th>\n",
              "      <th>BALMER__QUALITY</th>\n",
              "      <th>CHISQ</th>\n",
              "      <th>DOF</th>\n",
              "      <th>ELAPSED_TIME</th>\n",
              "    </tr>\n",
              "  </thead>\n",
              "  <tbody>\n",
              "    <tr>\n",
              "      <th>0</th>\n",
              "      <td>spec-0685-52203-0467</td>\n",
              "      <td>000006.53+003055.2</td>\n",
              "      <td>0.027228</td>\n",
              "      <td>0.515341</td>\n",
              "      <td>1.8246</td>\n",
              "      <td>685</td>\n",
              "      <td>467</td>\n",
              "      <td>52203</td>\n",
              "      <td>0.025235</td>\n",
              "      <td>3174</td>\n",
              "      <td>...</td>\n",
              "      <td>9.0</td>\n",
              "      <td>0.0</td>\n",
              "      <td>0.0</td>\n",
              "      <td>NaN</td>\n",
              "      <td>5040.799805</td>\n",
              "      <td>0.0</td>\n",
              "      <td>2</td>\n",
              "      <td>3016.012695</td>\n",
              "      <td>3135</td>\n",
              "      <td>6.814029</td>\n",
              "    </tr>\n",
              "    <tr>\n",
              "      <th>1</th>\n",
              "      <td>spec-0685-52203-0470</td>\n",
              "      <td>000008.13+001634.6</td>\n",
              "      <td>0.033900</td>\n",
              "      <td>0.276301</td>\n",
              "      <td>1.8373</td>\n",
              "      <td>685</td>\n",
              "      <td>470</td>\n",
              "      <td>52203</td>\n",
              "      <td>0.031247</td>\n",
              "      <td>3170</td>\n",
              "      <td>...</td>\n",
              "      <td>9.0</td>\n",
              "      <td>0.0</td>\n",
              "      <td>0.0</td>\n",
              "      <td>NaN</td>\n",
              "      <td>5040.799805</td>\n",
              "      <td>0.0</td>\n",
              "      <td>2</td>\n",
              "      <td>3236.742920</td>\n",
              "      <td>3131</td>\n",
              "      <td>4.358460</td>\n",
              "    </tr>\n",
              "    <tr>\n",
              "      <th>2</th>\n",
              "      <td>spec-0650-52143-0199</td>\n",
              "      <td>000009.42-102751.9</td>\n",
              "      <td>0.039271</td>\n",
              "      <td>-10.464426</td>\n",
              "      <td>1.8449</td>\n",
              "      <td>650</td>\n",
              "      <td>199</td>\n",
              "      <td>52143</td>\n",
              "      <td>0.036447</td>\n",
              "      <td>3506</td>\n",
              "      <td>...</td>\n",
              "      <td>9.0</td>\n",
              "      <td>0.0</td>\n",
              "      <td>0.0</td>\n",
              "      <td>NaN</td>\n",
              "      <td>5040.799805</td>\n",
              "      <td>0.0</td>\n",
              "      <td>2</td>\n",
              "      <td>4900.529785</td>\n",
              "      <td>3461</td>\n",
              "      <td>4.998147</td>\n",
              "    </tr>\n",
              "    <tr>\n",
              "      <th>3</th>\n",
              "      <td>spec-0750-52235-0499</td>\n",
              "      <td>000011.41+145545.6</td>\n",
              "      <td>0.047549</td>\n",
              "      <td>14.929355</td>\n",
              "      <td>0.4597</td>\n",
              "      <td>750</td>\n",
              "      <td>499</td>\n",
              "      <td>52235</td>\n",
              "      <td>0.040418</td>\n",
              "      <td>3375</td>\n",
              "      <td>...</td>\n",
              "      <td>9.0</td>\n",
              "      <td>0.0</td>\n",
              "      <td>0.0</td>\n",
              "      <td>NaN</td>\n",
              "      <td>5040.799805</td>\n",
              "      <td>0.0</td>\n",
              "      <td>0</td>\n",
              "      <td>4066.879639</td>\n",
              "      <td>3308</td>\n",
              "      <td>9.377895</td>\n",
              "    </tr>\n",
              "    <tr>\n",
              "      <th>4</th>\n",
              "      <td>spec-0387-51791-0200</td>\n",
              "      <td>000011.96+000225.3</td>\n",
              "      <td>0.049839</td>\n",
              "      <td>0.040365</td>\n",
              "      <td>0.4789</td>\n",
              "      <td>387</td>\n",
              "      <td>200</td>\n",
              "      <td>51791</td>\n",
              "      <td>0.031272</td>\n",
              "      <td>3481</td>\n",
              "      <td>...</td>\n",
              "      <td>9.0</td>\n",
              "      <td>0.0</td>\n",
              "      <td>0.0</td>\n",
              "      <td>NaN</td>\n",
              "      <td>5040.799805</td>\n",
              "      <td>0.0</td>\n",
              "      <td>0</td>\n",
              "      <td>3972.735352</td>\n",
              "      <td>3412</td>\n",
              "      <td>15.738253</td>\n",
              "    </tr>\n",
              "  </tbody>\n",
              "</table>\n",
              "<p>5 rows × 386 columns</p>\n",
              "</div>"
            ],
            "text/plain": [
              "                   SPEC           SDSS_NAME        RA        DEC  REDSHIFT  \\\n",
              "0  spec-0685-52203-0467  000006.53+003055.2  0.027228   0.515341    1.8246   \n",
              "1  spec-0685-52203-0470  000008.13+001634.6  0.033900   0.276301    1.8373   \n",
              "2  spec-0650-52143-0199  000009.42-102751.9  0.039271 -10.464426    1.8449   \n",
              "3  spec-0750-52235-0499  000011.41+145545.6  0.047549  14.929355    0.4597   \n",
              "4  spec-0387-51791-0200  000011.96+000225.3  0.049839   0.040365    0.4789   \n",
              "\n",
              "   PLATE  FIBER    MJD      E_BV  NDATA  ...  BALMER__LOGNE  \\\n",
              "0    685    467  52203  0.025235   3174  ...            9.0   \n",
              "1    685    470  52203  0.031247   3170  ...            9.0   \n",
              "2    650    199  52143  0.036447   3506  ...            9.0   \n",
              "3    750    499  52235  0.040418   3375  ...            9.0   \n",
              "4    387    200  51791  0.031272   3481  ...            9.0   \n",
              "\n",
              "   BALMER__LOGNE_ERR  BALMER__LOGTAU  BALMER__LOGTAU_ERR  BALMER__FWHM  \\\n",
              "0                0.0             0.0                 NaN   5040.799805   \n",
              "1                0.0             0.0                 NaN   5040.799805   \n",
              "2                0.0             0.0                 NaN   5040.799805   \n",
              "3                0.0             0.0                 NaN   5040.799805   \n",
              "4                0.0             0.0                 NaN   5040.799805   \n",
              "\n",
              "   BALMER__FWHM_ERR  BALMER__QUALITY        CHISQ   DOF  ELAPSED_TIME  \n",
              "0               0.0                2  3016.012695  3135      6.814029  \n",
              "1               0.0                2  3236.742920  3131      4.358460  \n",
              "2               0.0                2  4900.529785  3461      4.998147  \n",
              "3               0.0                0  4066.879639  3308      9.377895  \n",
              "4               0.0                0  3972.735352  3412     15.738253  \n",
              "\n",
              "[5 rows x 386 columns]"
            ]
          },
          "execution_count": 16,
          "metadata": {},
          "output_type": "execute_result"
        }
      ],
      "source": [
        "df.head()"
      ]
    },
    {
      "cell_type": "markdown",
      "id": "28704ab3",
      "metadata": {},
      "source": [
        "Iterate through all the spectros, store them in the dataset folder, and create a json with the information"
      ]
    },
    {
      "cell_type": "code",
      "execution_count": null,
      "id": "e6823902",
      "metadata": {
        "id": "e6823902"
      },
      "outputs": [
        {
          "ename": "KeyboardInterrupt",
          "evalue": "",
          "output_type": "error",
          "traceback": [
            "\u001b[1;31m---------------------------------------------------------------------------\u001b[0m",
            "\u001b[1;31mKeyboardInterrupt\u001b[0m                         Traceback (most recent call last)",
            "\u001b[1;32mc:\\Users\\VST\\git\\cguz\\cosmic-evolution\\ACE-Download-Dataset.ipynb Cell 12'\u001b[0m in \u001b[0;36m<module>\u001b[1;34m\u001b[0m\n\u001b[0;32m     <a href='vscode-notebook-cell:/c%3A/Users/VST/git/cguz/cosmic-evolution/ACE-Download-Dataset.ipynb#ch0000010?line=24'>25</a>\u001b[0m \u001b[39m# create the url to download and download the spectra\u001b[39;00m\n\u001b[0;32m     <a href='vscode-notebook-cell:/c%3A/Users/VST/git/cguz/cosmic-evolution/ACE-Download-Dataset.ipynb#ch0000010?line=25'>26</a>\u001b[0m url \u001b[39m=\u001b[39m url_spectra \u001b[39m+\u001b[39m zeroplate \u001b[39m+\u001b[39m\u001b[39m'\u001b[39m\u001b[39m/\u001b[39m\u001b[39m'\u001b[39m\u001b[39m+\u001b[39m spec \u001b[39m+\u001b[39m\u001b[39m'\u001b[39m\u001b[39m.fits\u001b[39m\u001b[39m'\u001b[39m \n\u001b[1;32m---> <a href='vscode-notebook-cell:/c%3A/Users/VST/git/cguz/cosmic-evolution/ACE-Download-Dataset.ipynb#ch0000010?line=26'>27</a>\u001b[0m r \u001b[39m=\u001b[39m requests\u001b[39m.\u001b[39;49mget(url)\n\u001b[0;32m     <a href='vscode-notebook-cell:/c%3A/Users/VST/git/cguz/cosmic-evolution/ACE-Download-Dataset.ipynb#ch0000010?line=28'>29</a>\u001b[0m \u001b[39m# store the file\u001b[39;00m\n\u001b[0;32m     <a href='vscode-notebook-cell:/c%3A/Users/VST/git/cguz/cosmic-evolution/ACE-Download-Dataset.ipynb#ch0000010?line=29'>30</a>\u001b[0m path \u001b[39m=\u001b[39m path_fits \u001b[39m+\u001b[39m spec \u001b[39m+\u001b[39m \u001b[39m'\u001b[39m\u001b[39m.fits\u001b[39m\u001b[39m'\u001b[39m\n",
            "File \u001b[1;32m~\\AppData\\Local\\Programs\\Python\\Python310\\lib\\site-packages\\requests\\api.py:75\u001b[0m, in \u001b[0;36mget\u001b[1;34m(url, params, **kwargs)\u001b[0m\n\u001b[0;32m     <a href='file:///~/AppData/Local/Programs/Python/Python310/lib/site-packages/requests/api.py?line=63'>64</a>\u001b[0m \u001b[39mdef\u001b[39;00m \u001b[39mget\u001b[39m(url, params\u001b[39m=\u001b[39m\u001b[39mNone\u001b[39;00m, \u001b[39m*\u001b[39m\u001b[39m*\u001b[39mkwargs):\n\u001b[0;32m     <a href='file:///~/AppData/Local/Programs/Python/Python310/lib/site-packages/requests/api.py?line=64'>65</a>\u001b[0m     \u001b[39mr\u001b[39m\u001b[39m\"\"\"Sends a GET request.\u001b[39;00m\n\u001b[0;32m     <a href='file:///~/AppData/Local/Programs/Python/Python310/lib/site-packages/requests/api.py?line=65'>66</a>\u001b[0m \n\u001b[0;32m     <a href='file:///~/AppData/Local/Programs/Python/Python310/lib/site-packages/requests/api.py?line=66'>67</a>\u001b[0m \u001b[39m    :param url: URL for the new :class:`Request` object.\u001b[39;00m\n\u001b[1;32m   (...)\u001b[0m\n\u001b[0;32m     <a href='file:///~/AppData/Local/Programs/Python/Python310/lib/site-packages/requests/api.py?line=71'>72</a>\u001b[0m \u001b[39m    :rtype: requests.Response\u001b[39;00m\n\u001b[0;32m     <a href='file:///~/AppData/Local/Programs/Python/Python310/lib/site-packages/requests/api.py?line=72'>73</a>\u001b[0m \u001b[39m    \"\"\"\u001b[39;00m\n\u001b[1;32m---> <a href='file:///~/AppData/Local/Programs/Python/Python310/lib/site-packages/requests/api.py?line=74'>75</a>\u001b[0m     \u001b[39mreturn\u001b[39;00m request(\u001b[39m'\u001b[39m\u001b[39mget\u001b[39m\u001b[39m'\u001b[39m, url, params\u001b[39m=\u001b[39mparams, \u001b[39m*\u001b[39m\u001b[39m*\u001b[39mkwargs)\n",
            "File \u001b[1;32m~\\AppData\\Local\\Programs\\Python\\Python310\\lib\\site-packages\\requests\\api.py:61\u001b[0m, in \u001b[0;36mrequest\u001b[1;34m(method, url, **kwargs)\u001b[0m\n\u001b[0;32m     <a href='file:///~/AppData/Local/Programs/Python/Python310/lib/site-packages/requests/api.py?line=56'>57</a>\u001b[0m \u001b[39m# By using the 'with' statement we are sure the session is closed, thus we\u001b[39;00m\n\u001b[0;32m     <a href='file:///~/AppData/Local/Programs/Python/Python310/lib/site-packages/requests/api.py?line=57'>58</a>\u001b[0m \u001b[39m# avoid leaving sockets open which can trigger a ResourceWarning in some\u001b[39;00m\n\u001b[0;32m     <a href='file:///~/AppData/Local/Programs/Python/Python310/lib/site-packages/requests/api.py?line=58'>59</a>\u001b[0m \u001b[39m# cases, and look like a memory leak in others.\u001b[39;00m\n\u001b[0;32m     <a href='file:///~/AppData/Local/Programs/Python/Python310/lib/site-packages/requests/api.py?line=59'>60</a>\u001b[0m \u001b[39mwith\u001b[39;00m sessions\u001b[39m.\u001b[39mSession() \u001b[39mas\u001b[39;00m session:\n\u001b[1;32m---> <a href='file:///~/AppData/Local/Programs/Python/Python310/lib/site-packages/requests/api.py?line=60'>61</a>\u001b[0m     \u001b[39mreturn\u001b[39;00m session\u001b[39m.\u001b[39mrequest(method\u001b[39m=\u001b[39mmethod, url\u001b[39m=\u001b[39murl, \u001b[39m*\u001b[39m\u001b[39m*\u001b[39mkwargs)\n",
            "File \u001b[1;32m~\\AppData\\Local\\Programs\\Python\\Python310\\lib\\site-packages\\requests\\sessions.py:529\u001b[0m, in \u001b[0;36mSession.request\u001b[1;34m(self, method, url, params, data, headers, cookies, files, auth, timeout, allow_redirects, proxies, hooks, stream, verify, cert, json)\u001b[0m\n\u001b[0;32m    <a href='file:///~/AppData/Local/Programs/Python/Python310/lib/site-packages/requests/sessions.py?line=523'>524</a>\u001b[0m send_kwargs \u001b[39m=\u001b[39m {\n\u001b[0;32m    <a href='file:///~/AppData/Local/Programs/Python/Python310/lib/site-packages/requests/sessions.py?line=524'>525</a>\u001b[0m     \u001b[39m'\u001b[39m\u001b[39mtimeout\u001b[39m\u001b[39m'\u001b[39m: timeout,\n\u001b[0;32m    <a href='file:///~/AppData/Local/Programs/Python/Python310/lib/site-packages/requests/sessions.py?line=525'>526</a>\u001b[0m     \u001b[39m'\u001b[39m\u001b[39mallow_redirects\u001b[39m\u001b[39m'\u001b[39m: allow_redirects,\n\u001b[0;32m    <a href='file:///~/AppData/Local/Programs/Python/Python310/lib/site-packages/requests/sessions.py?line=526'>527</a>\u001b[0m }\n\u001b[0;32m    <a href='file:///~/AppData/Local/Programs/Python/Python310/lib/site-packages/requests/sessions.py?line=527'>528</a>\u001b[0m send_kwargs\u001b[39m.\u001b[39mupdate(settings)\n\u001b[1;32m--> <a href='file:///~/AppData/Local/Programs/Python/Python310/lib/site-packages/requests/sessions.py?line=528'>529</a>\u001b[0m resp \u001b[39m=\u001b[39m \u001b[39mself\u001b[39m\u001b[39m.\u001b[39msend(prep, \u001b[39m*\u001b[39m\u001b[39m*\u001b[39msend_kwargs)\n\u001b[0;32m    <a href='file:///~/AppData/Local/Programs/Python/Python310/lib/site-packages/requests/sessions.py?line=530'>531</a>\u001b[0m \u001b[39mreturn\u001b[39;00m resp\n",
            "File \u001b[1;32m~\\AppData\\Local\\Programs\\Python\\Python310\\lib\\site-packages\\requests\\sessions.py:687\u001b[0m, in \u001b[0;36mSession.send\u001b[1;34m(self, request, **kwargs)\u001b[0m\n\u001b[0;32m    <a href='file:///~/AppData/Local/Programs/Python/Python310/lib/site-packages/requests/sessions.py?line=683'>684</a>\u001b[0m         \u001b[39mpass\u001b[39;00m\n\u001b[0;32m    <a href='file:///~/AppData/Local/Programs/Python/Python310/lib/site-packages/requests/sessions.py?line=685'>686</a>\u001b[0m \u001b[39mif\u001b[39;00m \u001b[39mnot\u001b[39;00m stream:\n\u001b[1;32m--> <a href='file:///~/AppData/Local/Programs/Python/Python310/lib/site-packages/requests/sessions.py?line=686'>687</a>\u001b[0m     r\u001b[39m.\u001b[39;49mcontent\n\u001b[0;32m    <a href='file:///~/AppData/Local/Programs/Python/Python310/lib/site-packages/requests/sessions.py?line=688'>689</a>\u001b[0m \u001b[39mreturn\u001b[39;00m r\n",
            "File \u001b[1;32m~\\AppData\\Local\\Programs\\Python\\Python310\\lib\\site-packages\\requests\\models.py:838\u001b[0m, in \u001b[0;36mResponse.content\u001b[1;34m(self)\u001b[0m\n\u001b[0;32m    <a href='file:///~/AppData/Local/Programs/Python/Python310/lib/site-packages/requests/models.py?line=835'>836</a>\u001b[0m         \u001b[39mself\u001b[39m\u001b[39m.\u001b[39m_content \u001b[39m=\u001b[39m \u001b[39mNone\u001b[39;00m\n\u001b[0;32m    <a href='file:///~/AppData/Local/Programs/Python/Python310/lib/site-packages/requests/models.py?line=836'>837</a>\u001b[0m     \u001b[39melse\u001b[39;00m:\n\u001b[1;32m--> <a href='file:///~/AppData/Local/Programs/Python/Python310/lib/site-packages/requests/models.py?line=837'>838</a>\u001b[0m         \u001b[39mself\u001b[39m\u001b[39m.\u001b[39m_content \u001b[39m=\u001b[39m \u001b[39mb\u001b[39;49m\u001b[39m'\u001b[39;49m\u001b[39m'\u001b[39;49m\u001b[39m.\u001b[39;49mjoin(\u001b[39mself\u001b[39;49m\u001b[39m.\u001b[39;49miter_content(CONTENT_CHUNK_SIZE)) \u001b[39mor\u001b[39;00m \u001b[39mb\u001b[39m\u001b[39m'\u001b[39m\u001b[39m'\u001b[39m\n\u001b[0;32m    <a href='file:///~/AppData/Local/Programs/Python/Python310/lib/site-packages/requests/models.py?line=839'>840</a>\u001b[0m \u001b[39mself\u001b[39m\u001b[39m.\u001b[39m_content_consumed \u001b[39m=\u001b[39m \u001b[39mTrue\u001b[39;00m\n\u001b[0;32m    <a href='file:///~/AppData/Local/Programs/Python/Python310/lib/site-packages/requests/models.py?line=840'>841</a>\u001b[0m \u001b[39m# don't need to release the connection; that's been handled by urllib3\u001b[39;00m\n\u001b[0;32m    <a href='file:///~/AppData/Local/Programs/Python/Python310/lib/site-packages/requests/models.py?line=841'>842</a>\u001b[0m \u001b[39m# since we exhausted the data.\u001b[39;00m\n",
            "File \u001b[1;32m~\\AppData\\Local\\Programs\\Python\\Python310\\lib\\site-packages\\requests\\models.py:760\u001b[0m, in \u001b[0;36mResponse.iter_content.<locals>.generate\u001b[1;34m()\u001b[0m\n\u001b[0;32m    <a href='file:///~/AppData/Local/Programs/Python/Python310/lib/site-packages/requests/models.py?line=757'>758</a>\u001b[0m \u001b[39mif\u001b[39;00m \u001b[39mhasattr\u001b[39m(\u001b[39mself\u001b[39m\u001b[39m.\u001b[39mraw, \u001b[39m'\u001b[39m\u001b[39mstream\u001b[39m\u001b[39m'\u001b[39m):\n\u001b[0;32m    <a href='file:///~/AppData/Local/Programs/Python/Python310/lib/site-packages/requests/models.py?line=758'>759</a>\u001b[0m     \u001b[39mtry\u001b[39;00m:\n\u001b[1;32m--> <a href='file:///~/AppData/Local/Programs/Python/Python310/lib/site-packages/requests/models.py?line=759'>760</a>\u001b[0m         \u001b[39mfor\u001b[39;00m chunk \u001b[39min\u001b[39;00m \u001b[39mself\u001b[39m\u001b[39m.\u001b[39mraw\u001b[39m.\u001b[39mstream(chunk_size, decode_content\u001b[39m=\u001b[39m\u001b[39mTrue\u001b[39;00m):\n\u001b[0;32m    <a href='file:///~/AppData/Local/Programs/Python/Python310/lib/site-packages/requests/models.py?line=760'>761</a>\u001b[0m             \u001b[39myield\u001b[39;00m chunk\n\u001b[0;32m    <a href='file:///~/AppData/Local/Programs/Python/Python310/lib/site-packages/requests/models.py?line=761'>762</a>\u001b[0m     \u001b[39mexcept\u001b[39;00m ProtocolError \u001b[39mas\u001b[39;00m e:\n",
            "File \u001b[1;32m~\\AppData\\Local\\Programs\\Python\\Python310\\lib\\site-packages\\urllib3\\response.py:576\u001b[0m, in \u001b[0;36mHTTPResponse.stream\u001b[1;34m(self, amt, decode_content)\u001b[0m\n\u001b[0;32m    <a href='file:///~/AppData/Local/Programs/Python/Python310/lib/site-packages/urllib3/response.py?line=573'>574</a>\u001b[0m \u001b[39melse\u001b[39;00m:\n\u001b[0;32m    <a href='file:///~/AppData/Local/Programs/Python/Python310/lib/site-packages/urllib3/response.py?line=574'>575</a>\u001b[0m     \u001b[39mwhile\u001b[39;00m \u001b[39mnot\u001b[39;00m is_fp_closed(\u001b[39mself\u001b[39m\u001b[39m.\u001b[39m_fp):\n\u001b[1;32m--> <a href='file:///~/AppData/Local/Programs/Python/Python310/lib/site-packages/urllib3/response.py?line=575'>576</a>\u001b[0m         data \u001b[39m=\u001b[39m \u001b[39mself\u001b[39;49m\u001b[39m.\u001b[39;49mread(amt\u001b[39m=\u001b[39;49mamt, decode_content\u001b[39m=\u001b[39;49mdecode_content)\n\u001b[0;32m    <a href='file:///~/AppData/Local/Programs/Python/Python310/lib/site-packages/urllib3/response.py?line=577'>578</a>\u001b[0m         \u001b[39mif\u001b[39;00m data:\n\u001b[0;32m    <a href='file:///~/AppData/Local/Programs/Python/Python310/lib/site-packages/urllib3/response.py?line=578'>579</a>\u001b[0m             \u001b[39myield\u001b[39;00m data\n",
            "File \u001b[1;32m~\\AppData\\Local\\Programs\\Python\\Python310\\lib\\site-packages\\urllib3\\response.py:519\u001b[0m, in \u001b[0;36mHTTPResponse.read\u001b[1;34m(self, amt, decode_content, cache_content)\u001b[0m\n\u001b[0;32m    <a href='file:///~/AppData/Local/Programs/Python/Python310/lib/site-packages/urllib3/response.py?line=516'>517</a>\u001b[0m \u001b[39melse\u001b[39;00m:\n\u001b[0;32m    <a href='file:///~/AppData/Local/Programs/Python/Python310/lib/site-packages/urllib3/response.py?line=517'>518</a>\u001b[0m     cache_content \u001b[39m=\u001b[39m \u001b[39mFalse\u001b[39;00m\n\u001b[1;32m--> <a href='file:///~/AppData/Local/Programs/Python/Python310/lib/site-packages/urllib3/response.py?line=518'>519</a>\u001b[0m     data \u001b[39m=\u001b[39m \u001b[39mself\u001b[39;49m\u001b[39m.\u001b[39;49m_fp\u001b[39m.\u001b[39;49mread(amt) \u001b[39mif\u001b[39;00m \u001b[39mnot\u001b[39;00m fp_closed \u001b[39melse\u001b[39;00m \u001b[39mb\u001b[39m\u001b[39m\"\u001b[39m\u001b[39m\"\u001b[39m\n\u001b[0;32m    <a href='file:///~/AppData/Local/Programs/Python/Python310/lib/site-packages/urllib3/response.py?line=519'>520</a>\u001b[0m     \u001b[39mif\u001b[39;00m (\n\u001b[0;32m    <a href='file:///~/AppData/Local/Programs/Python/Python310/lib/site-packages/urllib3/response.py?line=520'>521</a>\u001b[0m         amt \u001b[39m!=\u001b[39m \u001b[39m0\u001b[39m \u001b[39mand\u001b[39;00m \u001b[39mnot\u001b[39;00m data\n\u001b[0;32m    <a href='file:///~/AppData/Local/Programs/Python/Python310/lib/site-packages/urllib3/response.py?line=521'>522</a>\u001b[0m     ):  \u001b[39m# Platform-specific: Buggy versions of Python.\u001b[39;00m\n\u001b[1;32m   (...)\u001b[0m\n\u001b[0;32m    <a href='file:///~/AppData/Local/Programs/Python/Python310/lib/site-packages/urllib3/response.py?line=527'>528</a>\u001b[0m         \u001b[39m# not properly close the connection in all cases. There is\u001b[39;00m\n\u001b[0;32m    <a href='file:///~/AppData/Local/Programs/Python/Python310/lib/site-packages/urllib3/response.py?line=528'>529</a>\u001b[0m         \u001b[39m# no harm in redundantly calling close.\u001b[39;00m\n\u001b[0;32m    <a href='file:///~/AppData/Local/Programs/Python/Python310/lib/site-packages/urllib3/response.py?line=529'>530</a>\u001b[0m         \u001b[39mself\u001b[39m\u001b[39m.\u001b[39m_fp\u001b[39m.\u001b[39mclose()\n",
            "File \u001b[1;32m~\\AppData\\Local\\Programs\\Python\\Python310\\lib\\http\\client.py:465\u001b[0m, in \u001b[0;36mHTTPResponse.read\u001b[1;34m(self, amt)\u001b[0m\n\u001b[0;32m    <a href='file:///~/AppData/Local/Programs/Python/Python310/lib/http/client.py?line=461'>462</a>\u001b[0m \u001b[39mif\u001b[39;00m \u001b[39mself\u001b[39m\u001b[39m.\u001b[39mlength \u001b[39mis\u001b[39;00m \u001b[39mnot\u001b[39;00m \u001b[39mNone\u001b[39;00m \u001b[39mand\u001b[39;00m amt \u001b[39m>\u001b[39m \u001b[39mself\u001b[39m\u001b[39m.\u001b[39mlength:\n\u001b[0;32m    <a href='file:///~/AppData/Local/Programs/Python/Python310/lib/http/client.py?line=462'>463</a>\u001b[0m     \u001b[39m# clip the read to the \"end of response\"\u001b[39;00m\n\u001b[0;32m    <a href='file:///~/AppData/Local/Programs/Python/Python310/lib/http/client.py?line=463'>464</a>\u001b[0m     amt \u001b[39m=\u001b[39m \u001b[39mself\u001b[39m\u001b[39m.\u001b[39mlength\n\u001b[1;32m--> <a href='file:///~/AppData/Local/Programs/Python/Python310/lib/http/client.py?line=464'>465</a>\u001b[0m s \u001b[39m=\u001b[39m \u001b[39mself\u001b[39;49m\u001b[39m.\u001b[39;49mfp\u001b[39m.\u001b[39;49mread(amt)\n\u001b[0;32m    <a href='file:///~/AppData/Local/Programs/Python/Python310/lib/http/client.py?line=465'>466</a>\u001b[0m \u001b[39mif\u001b[39;00m \u001b[39mnot\u001b[39;00m s \u001b[39mand\u001b[39;00m amt:\n\u001b[0;32m    <a href='file:///~/AppData/Local/Programs/Python/Python310/lib/http/client.py?line=466'>467</a>\u001b[0m     \u001b[39m# Ideally, we would raise IncompleteRead if the content-length\u001b[39;00m\n\u001b[0;32m    <a href='file:///~/AppData/Local/Programs/Python/Python310/lib/http/client.py?line=467'>468</a>\u001b[0m     \u001b[39m# wasn't satisfied, but it might break compatibility.\u001b[39;00m\n\u001b[0;32m    <a href='file:///~/AppData/Local/Programs/Python/Python310/lib/http/client.py?line=468'>469</a>\u001b[0m     \u001b[39mself\u001b[39m\u001b[39m.\u001b[39m_close_conn()\n",
            "File \u001b[1;32m~\\AppData\\Local\\Programs\\Python\\Python310\\lib\\socket.py:705\u001b[0m, in \u001b[0;36mSocketIO.readinto\u001b[1;34m(self, b)\u001b[0m\n\u001b[0;32m    <a href='file:///~/AppData/Local/Programs/Python/Python310/lib/socket.py?line=702'>703</a>\u001b[0m \u001b[39mwhile\u001b[39;00m \u001b[39mTrue\u001b[39;00m:\n\u001b[0;32m    <a href='file:///~/AppData/Local/Programs/Python/Python310/lib/socket.py?line=703'>704</a>\u001b[0m     \u001b[39mtry\u001b[39;00m:\n\u001b[1;32m--> <a href='file:///~/AppData/Local/Programs/Python/Python310/lib/socket.py?line=704'>705</a>\u001b[0m         \u001b[39mreturn\u001b[39;00m \u001b[39mself\u001b[39;49m\u001b[39m.\u001b[39;49m_sock\u001b[39m.\u001b[39;49mrecv_into(b)\n\u001b[0;32m    <a href='file:///~/AppData/Local/Programs/Python/Python310/lib/socket.py?line=705'>706</a>\u001b[0m     \u001b[39mexcept\u001b[39;00m timeout:\n\u001b[0;32m    <a href='file:///~/AppData/Local/Programs/Python/Python310/lib/socket.py?line=706'>707</a>\u001b[0m         \u001b[39mself\u001b[39m\u001b[39m.\u001b[39m_timeout_occurred \u001b[39m=\u001b[39m \u001b[39mTrue\u001b[39;00m\n",
            "File \u001b[1;32m~\\AppData\\Local\\Programs\\Python\\Python310\\lib\\ssl.py:1273\u001b[0m, in \u001b[0;36mSSLSocket.recv_into\u001b[1;34m(self, buffer, nbytes, flags)\u001b[0m\n\u001b[0;32m   <a href='file:///~/AppData/Local/Programs/Python/Python310/lib/ssl.py?line=1268'>1269</a>\u001b[0m     \u001b[39mif\u001b[39;00m flags \u001b[39m!=\u001b[39m \u001b[39m0\u001b[39m:\n\u001b[0;32m   <a href='file:///~/AppData/Local/Programs/Python/Python310/lib/ssl.py?line=1269'>1270</a>\u001b[0m         \u001b[39mraise\u001b[39;00m \u001b[39mValueError\u001b[39;00m(\n\u001b[0;32m   <a href='file:///~/AppData/Local/Programs/Python/Python310/lib/ssl.py?line=1270'>1271</a>\u001b[0m           \u001b[39m\"\u001b[39m\u001b[39mnon-zero flags not allowed in calls to recv_into() on \u001b[39m\u001b[39m%s\u001b[39;00m\u001b[39m\"\u001b[39m \u001b[39m%\u001b[39m\n\u001b[0;32m   <a href='file:///~/AppData/Local/Programs/Python/Python310/lib/ssl.py?line=1271'>1272</a>\u001b[0m           \u001b[39mself\u001b[39m\u001b[39m.\u001b[39m\u001b[39m__class__\u001b[39m)\n\u001b[1;32m-> <a href='file:///~/AppData/Local/Programs/Python/Python310/lib/ssl.py?line=1272'>1273</a>\u001b[0m     \u001b[39mreturn\u001b[39;00m \u001b[39mself\u001b[39;49m\u001b[39m.\u001b[39;49mread(nbytes, buffer)\n\u001b[0;32m   <a href='file:///~/AppData/Local/Programs/Python/Python310/lib/ssl.py?line=1273'>1274</a>\u001b[0m \u001b[39melse\u001b[39;00m:\n\u001b[0;32m   <a href='file:///~/AppData/Local/Programs/Python/Python310/lib/ssl.py?line=1274'>1275</a>\u001b[0m     \u001b[39mreturn\u001b[39;00m \u001b[39msuper\u001b[39m()\u001b[39m.\u001b[39mrecv_into(buffer, nbytes, flags)\n",
            "File \u001b[1;32m~\\AppData\\Local\\Programs\\Python\\Python310\\lib\\ssl.py:1129\u001b[0m, in \u001b[0;36mSSLSocket.read\u001b[1;34m(self, len, buffer)\u001b[0m\n\u001b[0;32m   <a href='file:///~/AppData/Local/Programs/Python/Python310/lib/ssl.py?line=1126'>1127</a>\u001b[0m \u001b[39mtry\u001b[39;00m:\n\u001b[0;32m   <a href='file:///~/AppData/Local/Programs/Python/Python310/lib/ssl.py?line=1127'>1128</a>\u001b[0m     \u001b[39mif\u001b[39;00m buffer \u001b[39mis\u001b[39;00m \u001b[39mnot\u001b[39;00m \u001b[39mNone\u001b[39;00m:\n\u001b[1;32m-> <a href='file:///~/AppData/Local/Programs/Python/Python310/lib/ssl.py?line=1128'>1129</a>\u001b[0m         \u001b[39mreturn\u001b[39;00m \u001b[39mself\u001b[39;49m\u001b[39m.\u001b[39;49m_sslobj\u001b[39m.\u001b[39;49mread(\u001b[39mlen\u001b[39;49m, buffer)\n\u001b[0;32m   <a href='file:///~/AppData/Local/Programs/Python/Python310/lib/ssl.py?line=1129'>1130</a>\u001b[0m     \u001b[39melse\u001b[39;00m:\n\u001b[0;32m   <a href='file:///~/AppData/Local/Programs/Python/Python310/lib/ssl.py?line=1130'>1131</a>\u001b[0m         \u001b[39mreturn\u001b[39;00m \u001b[39mself\u001b[39m\u001b[39m.\u001b[39m_sslobj\u001b[39m.\u001b[39mread(\u001b[39mlen\u001b[39m)\n",
            "\u001b[1;31mKeyboardInterrupt\u001b[0m: "
          ]
        }
      ],
      "source": [
        "url_spectra = 'https://dr10.sdss.org/sas/dr10/sdss/spectro/redux/26/spectra/'\n",
        "path_fits = 'dataset/fits/'\n",
        "path_json = 'dataset/fits.json'\n",
        "\n",
        "PATH_FILE = \"PATH_FILE\"\n",
        "SPEC = \"SPEC\"\n",
        "PLATE = \"PLATE\"\n",
        "REDSHIFT = \"REDSHIFT\"\n",
        "\n",
        "# create the dictionary to store the fits information in the json\n",
        "fits_dic = []\n",
        "\n",
        "#### LOOP to download spectra ######\n",
        "for index, spectra in df.iterrows():\n",
        "    spec = spectra[SPEC]\n",
        "    plate = spectra[PLATE]\n",
        "    redshift = spectra[REDSHIFT]\n",
        "    \n",
        "    #acomodando para plates de 3 digitos\n",
        "    if len(str(plate)) == 3:\n",
        "        zeroplate = '0'+ str(plate)\n",
        "    else:\n",
        "        zeroplate = str(plate)\n",
        "\n",
        "    # create the url to download and download the spectra\n",
        "    url = url_spectra + zeroplate +'/'+ spec +'.fits' \n",
        "    r = requests.get(url)\n",
        "\n",
        "    # store the file\n",
        "    path = path_fits + spec + '.fits'\n",
        "    os.makedirs(os.path.dirname(path), exist_ok=True)\n",
        "    with open(path, 'wb') as f:\n",
        "        f.write(r.content)\n",
        "\n",
        "    # store the information in the dictionary\n",
        "    fit_dic = {}\n",
        "    fit_dic[PATH_FILE] = path\n",
        "    fit_dic[SPEC] = spec\n",
        "    fit_dic[PLATE] = plate\n",
        "    fit_dic[REDSHIFT] = redshift\n",
        "\n",
        "    fits_dic.append(fit_dic)\n",
        "\n",
        "    with open(path_json, 'w') as outfile:\n",
        "        json.dump(fits_dic, outfile)\n",
        "\n",
        "###### Last code for google drive ####\n",
        "# #### LOOP to download spectra ######\n",
        "# for index in range(len(day)):\n",
        "#     spec = day.iloc[index,0]\n",
        "#     plate = day.iloc[index,5]\n",
        "#     #acomodando para plates de 3 digitos\n",
        "#     if len(str(plate)) == 3:\n",
        "#         zeroplate = '0'+ str(plate)\n",
        "#     else:\n",
        "#         zeroplate = str(plate)\n",
        "#     url = 'https://dr10.sdss.org/sas/dr10/sdss/spectro/redux/26/spectra/'+ zeroplate +'/'+ spec +'.fits' \n",
        "#     r = requests.get(url)\n",
        "#     #### redireccionar a propia carpeta de google #####\n",
        "#     path = '/content/drive/My Drive/TFM/fits/0003/'+ spec + '.fits'\n",
        "#     with open(path, 'wb') as f:\n",
        "#         f.write(r.content)"
      ]
    }
  ],
  "metadata": {
    "colab": {
      "collapsed_sections": [],
      "name": "Dayla's Dataset.ipynb",
      "provenance": []
    },
    "kernelspec": {
      "display_name": "Python 3 (ipykernel)",
      "language": "python",
      "name": "python3"
    },
    "language_info": {
      "codemirror_mode": {
        "name": "ipython",
        "version": 3
      },
      "file_extension": ".py",
      "mimetype": "text/x-python",
      "name": "python",
      "nbconvert_exporter": "python",
      "pygments_lexer": "ipython3",
      "version": "3.10.2"
    }
  },
  "nbformat": 4,
  "nbformat_minor": 5
}
